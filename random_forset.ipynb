{
 "cells": [
  {
   "cell_type": "code",
   "execution_count": null,
   "metadata": {},
   "outputs": [],
   "source": [
    "from sklearn.feature_extraction.text import TfidfVectorizer\n",
    "from sklearn import model_selection\n",
    "from sklearn import ensemble\n",
    "from sklearn.metrics import accuracy_score, f1_score, recall_score, precision_score\n",
    "import pandas as pd"
   ]
  },
  {
   "cell_type": "markdown",
   "metadata": {},
   "source": [
    "Read in discharge summary notes and labels for general readmission from .txt files "
   ]
  },
  {
   "cell_type": "code",
   "execution_count": null,
   "metadata": {},
   "outputs": [],
   "source": [
    "with open('CS598_DATA/x.txt') as fd:\n",
    "    note = fd.read().split('\\n')\n",
    "\n",
    "with open('CS598_DATA/y.txt') as fd:\n",
    "    label = fd.read().split('\\n')"
   ]
  },
  {
   "cell_type": "markdown",
   "metadata": {},
   "source": [
    "Read in discharge summary notes and labels for 30-day readmission from .txt files "
   ]
  },
  {
   "cell_type": "code",
   "execution_count": null,
   "metadata": {},
   "outputs": [],
   "source": [
    "with open('CS598_DATA/x_30.txt') as fd:\n",
    "    note_30 = fd.read().split('\\n')\n",
    "\n",
    "with open('CS598_DATA/y_30.txt') as fd:\n",
    "    label_30 = fd.read().split('\\n')"
   ]
  },
  {
   "cell_type": "markdown",
   "metadata": {},
   "source": [
    "Remove numbers and sepcial characters from each discharge summary notes for general readmission"
   ]
  },
  {
   "cell_type": "code",
   "execution_count": null,
   "metadata": {},
   "outputs": [],
   "source": [
    "for i in range(len(note)):\n",
    "    words = note[i].split()\n",
    "    words = [word for word in words if word.isalpha()]\n",
    "    note[i] = ' '.join(words)"
   ]
  },
  {
   "cell_type": "markdown",
   "metadata": {},
   "source": [
    "Remove numbers and sepcial characters from each discharge summary notes for 30-day general readmission"
   ]
  },
  {
   "cell_type": "code",
   "execution_count": null,
   "metadata": {},
   "outputs": [],
   "source": [
    "for i in range(len(note_30)):\n",
    "    words_30 = note_30[i].split()\n",
    "    words_30 = [word for word in words_30 if word.isalpha()]\n",
    "    note_30[i] = ' '.join(words_30)"
   ]
  },
  {
   "cell_type": "markdown",
   "metadata": {},
   "source": [
    "Create Dataframe for general readmission"
   ]
  },
  {
   "cell_type": "code",
   "execution_count": null,
   "metadata": {},
   "outputs": [],
   "source": [
    "data = pd.DataFrame()\n",
    "data['note'] = note\n",
    "data['label'] = label"
   ]
  },
  {
   "cell_type": "markdown",
   "metadata": {},
   "source": [
    "Create Dataframe for 30-day readmission"
   ]
  },
  {
   "cell_type": "code",
   "execution_count": null,
   "metadata": {},
   "outputs": [],
   "source": [
    "data_30 = pd.DataFrame()\n",
    "data_30['note'] = note_30\n",
    "data_30['label'] = label_30"
   ]
  },
  {
   "cell_type": "markdown",
   "metadata": {},
   "source": [
    "Split train and test data with train_size=0.9 for general readmission"
   ]
  },
  {
   "cell_type": "code",
   "execution_count": null,
   "metadata": {},
   "outputs": [],
   "source": [
    "train_x, test_x, train_y, test_y = model_selection.train_test_split(data['note'], data['label'], train_size=0.9)"
   ]
  },
  {
   "cell_type": "markdown",
   "metadata": {},
   "source": [
    "Split train and test data with train_size=0.9 for 30-day readmission"
   ]
  },
  {
   "cell_type": "code",
   "execution_count": null,
   "metadata": {},
   "outputs": [],
   "source": [
    "train_x_30, test_x_30, train_y_30, test_y_30 = model_selection.train_test_split(data_30['note'], data_30['label'], train_size=0.9)"
   ]
  },
  {
   "cell_type": "markdown",
   "metadata": {},
   "source": [
    "Construct features using term frequency-inverse document frequency (TF-IDF) for general readmission"
   ]
  },
  {
   "cell_type": "code",
   "execution_count": null,
   "metadata": {},
   "outputs": [],
   "source": [
    "TFIDF = TfidfVectorizer(analyzer='word', token_pattern=r'\\w{1,}')\n",
    "TFIDF.fit(data['note'])\n",
    "train_x = TFIDF.transform(train_x)\n",
    "test_x = TFIDF.transform(test_x)"
   ]
  },
  {
   "cell_type": "markdown",
   "metadata": {},
   "source": [
    "Construct features using term frequency-inverse document frequency (TF-IDF) for 30-day readmission"
   ]
  },
  {
   "cell_type": "code",
   "execution_count": null,
   "metadata": {},
   "outputs": [],
   "source": [
    "TFIDF_30 = TfidfVectorizer(analyzer='word', token_pattern=r'\\w{1,}')\n",
    "TFIDF_30.fit(data_30['note'])\n",
    "train_x_30 = TFIDF_30.transform(train_x_30)\n",
    "test_x_30 = TFIDF_30.transform(test_x_30)"
   ]
  },
  {
   "cell_type": "markdown",
   "metadata": {},
   "source": [
    "Initialize Random Forest Classifier and predict on test data for general readmission"
   ]
  },
  {
   "cell_type": "code",
   "execution_count": null,
   "metadata": {},
   "outputs": [],
   "source": [
    "model = ensemble.RandomForestClassifier().fit(train_x, train_y)\n",
    "y_hat = model.predict(test_x)"
   ]
  },
  {
   "cell_type": "markdown",
   "metadata": {},
   "source": [
    "Initialize Random Forest Classifier and predict on test data for 30-day readmission"
   ]
  },
  {
   "cell_type": "code",
   "execution_count": null,
   "metadata": {},
   "outputs": [],
   "source": [
    "model_30 = ensemble.RandomForestClassifier().fit(train_x_30, train_y_30)\n",
    "y_hat_30 = model_30.predict(test_x_30)"
   ]
  },
  {
   "cell_type": "markdown",
   "metadata": {},
   "source": [
    "Show model performance on test data for general readmission prediction "
   ]
  },
  {
   "cell_type": "code",
   "execution_count": null,
   "metadata": {},
   "outputs": [],
   "source": [
    "print(f\"Precision Score: {precision_score(test_y, y_hat, pos_label='1')}\")\n",
    "print(f\"Recall Score: {recall_score(test_y, y_hat, pos_label='1')}\")\n",
    "print(f\"F1 Score: {f1_score(test_y, y_hat, pos_label='1')}\")\n",
    "print(f\"Accuracy Score: {accuracy_score(test_y, y_hat)}\")"
   ]
  },
  {
   "cell_type": "markdown",
   "metadata": {},
   "source": [
    "Show model performance on test data for 30-day readmission prediction"
   ]
  },
  {
   "cell_type": "code",
   "execution_count": null,
   "metadata": {},
   "outputs": [],
   "source": [
    "print(f\"Precision Score: {precision_score(test_y_30, y_hat_30, pos_label='1')}\")\n",
    "print(f\"Recall Score: {recall_score(test_y_30, y_hat_30, pos_label='1')}\")\n",
    "print(f\"F1 Score: {f1_score(test_y_30, y_hat_30, pos_label='1')}\")\n",
    "print(f\"Accuracy Score: {accuracy_score(test_y_30, y_hat_30)}\")"
   ]
  },
  {
   "cell_type": "markdown",
   "metadata": {},
   "source": [
    "Test number of features for model from 10000 to 25000 with a step of 5000 for general readmission"
   ]
  },
  {
   "cell_type": "code",
   "execution_count": null,
   "metadata": {},
   "outputs": [],
   "source": [
    "for features in range(10000, 25001, 5000):\n",
    "    model = ensemble.RandomForestClassifier(max_features=features).fit(train_x, train_y)\n",
    "    y_hat = model.predict(test_x)\n",
    "    print(features)\n",
    "    print(f\"Precision Score: {precision_score(test_y, y_hat, pos_label='1')}\")\n",
    "    print(f\"Recall Score: {recall_score(test_y, y_hat, pos_label='1')}\")\n",
    "    print(f\"F1 Score: {f1_score(test_y, y_hat, pos_label='1')}\")\n",
    "    print(f\"Accuracy Score: {accuracy_score(test_y, y_hat)}\")"
   ]
  },
  {
   "cell_type": "markdown",
   "metadata": {},
   "source": [
    "Test number of features for model from 10000 to 20000 with a step of 5000 for 30-day readmission"
   ]
  },
  {
   "cell_type": "code",
   "execution_count": null,
   "metadata": {},
   "outputs": [],
   "source": [
    "for features in range(10000, 20001, 5000):\n",
    "    model_30 = ensemble.RandomForestClassifier(max_features=features).fit(train_x_30, train_y_30)\n",
    "    y_hat_30 = model_30.predict(test_x_30)\n",
    "    print(features)\n",
    "    print(f\"Precision Score: {precision_score(test_y_30, y_hat_30, pos_label='1')}\")\n",
    "    print(f\"Recall Score: {recall_score(test_y_30, y_hat_30, pos_label='1')}\")\n",
    "    print(f\"F1 Score: {f1_score(test_y_30, y_hat_30, pos_label='1')}\")\n",
    "    print(f\"Accuracy Score: {accuracy_score(test_y_30, y_hat_30)}\")"
   ]
  },
  {
   "cell_type": "code",
   "execution_count": null,
   "metadata": {},
   "outputs": [],
   "source": []
  }
 ],
 "metadata": {
  "interpreter": {
   "hash": "aee8b7b246df8f9039afb4144a1f6fd8d2ca17a180786b69acc140d282b71a49"
  },
  "kernelspec": {
   "display_name": "Python 3.10.0 64-bit",
   "language": "python",
   "name": "python3"
  },
  "language_info": {
   "codemirror_mode": {
    "name": "ipython",
    "version": 3
   },
   "file_extension": ".py",
   "mimetype": "text/x-python",
   "name": "python",
   "nbconvert_exporter": "python",
   "pygments_lexer": "ipython3",
   "version": "3.10.0"
  },
  "orig_nbformat": 4
 },
 "nbformat": 4,
 "nbformat_minor": 2
}
