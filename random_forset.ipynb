{
 "cells": [
  {
   "cell_type": "code",
   "execution_count": 1,
   "metadata": {},
   "outputs": [],
   "source": [
    "from sklearn.feature_extraction.text import TfidfVectorizer\n",
    "from sklearn import model_selection\n",
    "from sklearn import ensemble\n",
    "from sklearn.metrics import classification_report, accuracy_score, f1_score, recall_score, precision_score\n",
    "import pandas as pd"
   ]
  },
  {
   "cell_type": "markdown",
   "metadata": {},
   "source": [
    "Read in discharge summary notes and labels for general readmission from .txt files "
   ]
  },
  {
   "cell_type": "code",
   "execution_count": 2,
   "metadata": {},
   "outputs": [],
   "source": [
    "with open('CS598_DATA/x.txt') as fd:\n",
    "    note = fd.read().split('\\n')\n",
    "\n",
    "with open('CS598_DATA/y.txt') as fd:\n",
    "    label = fd.read().split('\\n')"
   ]
  },
  {
   "cell_type": "markdown",
   "metadata": {},
   "source": [
    "Read in discharge summary notes and labels for 30 days readmission from .txt files "
   ]
  },
  {
   "cell_type": "code",
   "execution_count": 17,
   "metadata": {},
   "outputs": [],
   "source": [
    "with open('CS598_DATA/x_30.txt') as fd:\n",
    "    note_30 = fd.read().split('\\n')\n",
    "\n",
    "with open('CS598_DATA/y_30.txt') as fd:\n",
    "    label_30 = fd.read().split('\\n')"
   ]
  },
  {
   "cell_type": "markdown",
   "metadata": {},
   "source": [
    "Create Dataframe for general readmission"
   ]
  },
  {
   "cell_type": "code",
   "execution_count": 4,
   "metadata": {},
   "outputs": [],
   "source": [
    "data = pd.DataFrame()\n",
    "data['note'] = note\n",
    "data['label'] = label"
   ]
  },
  {
   "cell_type": "markdown",
   "metadata": {},
   "source": [
    "Create Dataframe for 30 days readmission"
   ]
  },
  {
   "cell_type": "code",
   "execution_count": 18,
   "metadata": {},
   "outputs": [],
   "source": [
    "data_30 = pd.DataFrame()\n",
    "data_30['note'] = note_30\n",
    "data_30['label'] = label_30"
   ]
  },
  {
   "cell_type": "markdown",
   "metadata": {},
   "source": [
    "Split train and test data with train_size=0.9 for general readmission"
   ]
  },
  {
   "cell_type": "code",
   "execution_count": 6,
   "metadata": {},
   "outputs": [],
   "source": [
    "train_x, test_x, train_y, test_y = model_selection.train_test_split(data['note'], data['label'], train_size=0.9)"
   ]
  },
  {
   "cell_type": "markdown",
   "metadata": {},
   "source": [
    "Split train and test data with train_size=0.9 for 30 days readmission"
   ]
  },
  {
   "cell_type": "code",
   "execution_count": 19,
   "metadata": {},
   "outputs": [],
   "source": [
    "train_x_30, test_x_30, train_y_30, test_y_30 = model_selection.train_test_split(data_30['note'], data_30['label'], train_size=0.9)"
   ]
  },
  {
   "cell_type": "markdown",
   "metadata": {},
   "source": [
    "Construct features using term frequency-inverse document frequency (TF-IDF) for general readmission"
   ]
  },
  {
   "cell_type": "code",
   "execution_count": 8,
   "metadata": {},
   "outputs": [],
   "source": [
    "TFIDF = TfidfVectorizer(analyzer='word', token_pattern=r'\\w{1,}')\n",
    "TFIDF.fit(data['note'])\n",
    "train_x = TFIDF.transform(train_x)\n",
    "test_x = TFIDF.transform(test_x)"
   ]
  },
  {
   "cell_type": "markdown",
   "metadata": {},
   "source": [
    "Construct features using term frequency-inverse document frequency (TF-IDF) for 30 days readmission"
   ]
  },
  {
   "cell_type": "code",
   "execution_count": 23,
   "metadata": {},
   "outputs": [],
   "source": [
    "TFIDF_30 = TfidfVectorizer(analyzer='word', token_pattern=r'\\w{1,}')\n",
    "TFIDF_30.fit(data_30['note'])\n",
    "train_x_30 = TFIDF_30.transform(train_x_30)\n",
    "test_x_30 = TFIDF_30.transform(test_x_30)"
   ]
  },
  {
   "cell_type": "markdown",
   "metadata": {},
   "source": [
    "Initialize Random Forest Classifier and predict on test data for general readmission"
   ]
  },
  {
   "cell_type": "code",
   "execution_count": 15,
   "metadata": {},
   "outputs": [],
   "source": [
    "model = ensemble.RandomForestClassifier().fit(train_x, train_y)\n",
    "y_hat = model.predict(test_x)"
   ]
  },
  {
   "cell_type": "markdown",
   "metadata": {},
   "source": [
    "Initialize Random Forest Classifier and predict on test data for 30 days readmission"
   ]
  },
  {
   "cell_type": "code",
   "execution_count": 24,
   "metadata": {},
   "outputs": [],
   "source": [
    "model_30 = ensemble.RandomForestClassifier().fit(train_x_30, train_y_30)\n",
    "y_hat_30 = model_30.predict(test_x_30)"
   ]
  },
  {
   "cell_type": "markdown",
   "metadata": {},
   "source": [
    "Show model performance on test data for general readmission prediction "
   ]
  },
  {
   "cell_type": "code",
   "execution_count": 34,
   "metadata": {},
   "outputs": [
    {
     "name": "stdout",
     "output_type": "stream",
     "text": [
      "Precision Score: 0.6407506702412868\n",
      "Recall Score: 0.6732394366197183\n",
      "F1 Score: 0.6565934065934066\n",
      "Accuracy Score: 0.6527777777777778\n",
      "              precision    recall  f1-score   support\n",
      "\n",
      "           0       0.67      0.63      0.65       365\n",
      "           1       0.64      0.67      0.66       355\n",
      "\n",
      "    accuracy                           0.65       720\n",
      "   macro avg       0.65      0.65      0.65       720\n",
      "weighted avg       0.65      0.65      0.65       720\n",
      "\n"
     ]
    }
   ],
   "source": [
    "print(f\"Precision Score: {precision_score(test_y, y_hat, pos_label='1')}\")\n",
    "print(f\"Recall Score: {recall_score(test_y, y_hat, pos_label='1')}\")\n",
    "print(f\"F1 Score: {f1_score(test_y, y_hat, pos_label='1')}\")\n",
    "print(f\"Accuracy Score: {accuracy_score(test_y, y_hat)}\")\n",
    "print(classification_report(test_y, y_hat))"
   ]
  },
  {
   "cell_type": "markdown",
   "metadata": {},
   "source": [
    "Show model performance on test data for 30 days readmission prediction"
   ]
  },
  {
   "cell_type": "code",
   "execution_count": 32,
   "metadata": {},
   "outputs": [
    {
     "name": "stdout",
     "output_type": "stream",
     "text": [
      "Precision Score: 0.6176470588235294\n",
      "Recall Score: 0.5915492957746479\n",
      "F1 Score: 0.60431654676259\n",
      "Accuracy Score: 0.6014492753623188\n",
      "              precision    recall  f1-score   support\n",
      "\n",
      "           0       0.59      0.61      0.60        67\n",
      "           1       0.62      0.59      0.60        71\n",
      "\n",
      "    accuracy                           0.60       138\n",
      "   macro avg       0.60      0.60      0.60       138\n",
      "weighted avg       0.60      0.60      0.60       138\n",
      "\n"
     ]
    }
   ],
   "source": [
    "print(f\"Precision Score: {precision_score(test_y_30, y_hat_30, pos_label='1')}\")\n",
    "print(f\"Recall Score: {recall_score(test_y_30, y_hat_30, pos_label='1')}\")\n",
    "print(f\"F1 Score: {f1_score(test_y_30, y_hat_30, pos_label='1')}\")\n",
    "print(f\"Accuracy Score: {accuracy_score(test_y_30, y_hat_30)}\")\n",
    "print(classification_report(test_y_30, y_hat_30))"
   ]
  }
 ],
 "metadata": {
  "interpreter": {
   "hash": "aee8b7b246df8f9039afb4144a1f6fd8d2ca17a180786b69acc140d282b71a49"
  },
  "kernelspec": {
   "display_name": "Python 3.10.0 64-bit",
   "language": "python",
   "name": "python3"
  },
  "language_info": {
   "codemirror_mode": {
    "name": "ipython",
    "version": 3
   },
   "file_extension": ".py",
   "mimetype": "text/x-python",
   "name": "python",
   "nbconvert_exporter": "python",
   "pygments_lexer": "ipython3",
   "version": "3.10.0"
  },
  "orig_nbformat": 4
 },
 "nbformat": 4,
 "nbformat_minor": 2
}
